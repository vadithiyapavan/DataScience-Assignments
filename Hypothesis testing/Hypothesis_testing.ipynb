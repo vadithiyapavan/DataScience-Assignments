{
  "nbformat": 4,
  "nbformat_minor": 0,
  "metadata": {
    "colab": {
      "provenance": []
    },
    "kernelspec": {
      "name": "python3",
      "display_name": "Python 3"
    },
    "language_info": {
      "name": "python"
    }
  },
  "cells": [
    {
      "cell_type": "code",
      "execution_count": 1,
      "metadata": {
        "colab": {
          "base_uri": "https://localhost:8080/"
        },
        "id": "rihZ6Vr801Me",
        "outputId": "b01ed9f2-75e5-489d-9713-3cb817d2ccc7"
      },
      "outputs": [
        {
          "output_type": "stream",
          "name": "stdout",
          "text": [
            "Hypothesis Testing on Weekly Operating Costs\n",
            "------------------------------------------------------------\n",
            "Sample Mean: 3050\n",
            "Theoretical Mean Cost: 4000\n",
            "Standard Deviation of Cost: 125\n",
            "Sample Size: 25\n",
            "Test Statistic: -38.0\n",
            "Critical Value (at alpha = 0.05): 1.6448536269514722\n",
            "Conclusion: Fail to reject the null hypothesis: No strong evidence that the weekly operating cost is higher than the model suggests.\n",
            "------------------------------------------------------------\n"
          ]
        }
      ],
      "source": [
        "# Import necessary libraries\n",
        "from scipy.stats import norm\n",
        "\n",
        "# Step 1: State the Hypotheses\n",
        "# Null Hypothesis (H0): The mean weekly operating cost follows the theoretical model (µ = 3000).\n",
        "# Alternative Hypothesis (H1): The mean weekly operating cost is greater than the theoretical model (µ > 3000).\n",
        "\n",
        "# Given Data\n",
        "sample_mean = 3050          # Observed mean weekly cost (Rs. 3,050)\n",
        "n = 25                       # Sample size\n",
        "x_bar_theoretical = 3000     # Theoretical mean cost from model\n",
        "std_dev_units = 25           # Standard deviation of units produced in a week\n",
        "num_units_mean = 600         # Mean number of units produced\n",
        "\n",
        "# Calculated theoretical mean cost based on the model W = $1,000 + $5X\n",
        "theoretical_mean_cost = 1000 + (5 * num_units_mean)\n",
        "\n",
        "# Standard deviation of weekly operating cost according to model\n",
        "std_dev_cost = 5 * std_dev_units\n",
        "\n",
        "# Step 2: Calculated the Test Statistic\n",
        "# Formula: t = (sample_mean - theoretical_mean) / (std_dev_cost / sqrt(n))\n",
        "test_statistic = (sample_mean - theoretical_mean_cost) / (std_dev_cost / (n ** 0.5))\n",
        "\n",
        "# Step 3: Determined the Critical Value for a one-tailed test at 5% significance level (alpha = 0.05)\n",
        "alpha = 0.05\n",
        "critical_value = norm.ppf(1 - alpha)  # Using Z-distribution for large sample size\n",
        "\n",
        "# Step 4: Making a Decision\n",
        "if test_statistic > critical_value:\n",
        "    conclusion = \"Reject the null hypothesis: The weekly operating cost is significantly higher than the theoretical model.\"\n",
        "else:\n",
        "    conclusion = \"Fail to reject the null hypothesis: No strong evidence that the weekly operating cost is higher than the model suggests.\"\n",
        "\n",
        "# Step 5: final step Printed the Results\n",
        "print(\"Hypothesis Testing on Weekly Operating Costs\")\n",
        "print(\"------------------------------------------------------------\")\n",
        "print(f\"Sample Mean: {sample_mean}\")\n",
        "print(f\"Theoretical Mean Cost: {theoretical_mean_cost}\")\n",
        "print(f\"Standard Deviation of Cost: {std_dev_cost}\")\n",
        "print(f\"Sample Size: {n}\")\n",
        "print(f\"Test Statistic: {test_statistic}\")\n",
        "print(f\"Critical Value (at alpha = 0.05): {critical_value}\")\n",
        "print(f\"Conclusion: {conclusion}\")\n",
        "print(\"------------------------------------------------------------\")\n"
      ]
    }
  ]
}