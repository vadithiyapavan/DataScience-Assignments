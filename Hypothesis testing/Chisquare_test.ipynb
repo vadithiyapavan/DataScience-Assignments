{
  "nbformat": 4,
  "nbformat_minor": 0,
  "metadata": {
    "colab": {
      "provenance": []
    },
    "kernelspec": {
      "name": "python3",
      "display_name": "Python 3"
    },
    "language_info": {
      "name": "python"
    }
  },
  "cells": [
    {
      "cell_type": "code",
      "source": [
        "# Import necessary libraries\n",
        "import pandas as pd\n",
        "from scipy.stats import chi2_contingency, chi2\n",
        "\n",
        "# Step 1: Define the data in a contingency table format\n",
        "data = pd.DataFrame({\n",
        "    'Smart Thermostat': [50, 80, 60, 30, 20],\n",
        "    'Smart Light': [70, 100, 90, 50, 50]\n",
        "}, index=['Very Satisfied', 'Satisfied', 'Neutral', 'Unsatisfied', 'Very Unsatisfied'])\n",
        "\n",
        "# Step 2: State the Hypotheses\n",
        "# Null Hypothesis (H0): There is no association between the type of device and customer satisfaction.\n",
        "# Alternative Hypothesis (H1): There is an association between the type of device and customer satisfaction.\n",
        "\n",
        "# Step 3: Perform the Chi-Square test\n",
        "chi2_stat, p_value, dof, expected = chi2_contingency(data)\n",
        "\n",
        "# Step 4: Define significance level and find critical value\n",
        "alpha = 0.05\n",
        "critical_value = chi2.ppf(1 - alpha, dof)\n",
        "\n",
        "# Step 5: Conclusion based on comparison between chi2_stat and critical_value\n",
        "if chi2_stat > critical_value:\n",
        "    conclusion = \"Reject the null hypothesis: There is a significant association between device type and satisfaction level.\"\n",
        "else:\n",
        "    conclusion = \"Fail to reject the null hypothesis: No significant association between device type and satisfaction level.\"\n",
        "\n",
        "# Step 6: Print the results\n",
        "print(\"Chi-Square Test Analysis for Association between Device Type and Customer Satisfaction\")\n",
        "print(\"--------------------------------------------------------------------------\")\n",
        "print(\"Chi-Square Statistic:\", chi2_stat)\n",
        "print(\"P-value:\", p_value)\n",
        "print(\"Degrees of Freedom:\", dof)\n",
        "print(\"Critical Value (at alpha = 0.05):\", critical_value)\n",
        "print(\"Conclusion:\", conclusion)\n",
        "print(\"--------------------------------------------------------------------------\")\n",
        "\n",
        "# Additional Information for clarity in your report:\n",
        "# Display the expected frequencies for each cell as calculated by the chi-square test.\n",
        "print(\"\\nExpected Frequencies Table:\")\n",
        "print(pd.DataFrame(expected, index=data.index, columns=data.columns))\n"
      ],
      "metadata": {
        "colab": {
          "base_uri": "https://localhost:8080/"
        },
        "id": "6CIwGu5IzP06",
        "outputId": "cdfd279a-5535-47bb-fc7c-e73e3cd0ce69"
      },
      "execution_count": 5,
      "outputs": [
        {
          "output_type": "stream",
          "name": "stdout",
          "text": [
            "Chi-Square Test Analysis for Association between Device Type and Customer Satisfaction\n",
            "--------------------------------------------------------------------------\n",
            "Chi-Square Statistic: 5.638227513227513\n",
            "P-value: 0.22784371130697179\n",
            "Degrees of Freedom: 4\n",
            "Critical Value (at alpha = 0.05): 9.487729036781154\n",
            "Conclusion: Fail to reject the null hypothesis: No significant association between device type and satisfaction level.\n",
            "--------------------------------------------------------------------------\n",
            "\n",
            "Expected Frequencies Table:\n",
            "                  Smart Thermostat  Smart Light\n",
            "Very Satisfied                48.0         72.0\n",
            "Satisfied                     72.0        108.0\n",
            "Neutral                       60.0         90.0\n",
            "Unsatisfied                   32.0         48.0\n",
            "Very Unsatisfied              28.0         42.0\n"
          ]
        }
      ]
    }
  ]
}