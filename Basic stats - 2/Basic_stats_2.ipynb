{
  "nbformat": 4,
  "nbformat_minor": 0,
  "metadata": {
    "colab": {
      "provenance": []
    },
    "kernelspec": {
      "name": "python3",
      "display_name": "Python 3"
    },
    "language_info": {
      "name": "python"
    }
  },
  "cells": [
    {
      "cell_type": "markdown",
      "source": [
        "**Step 1: Set Up Your Data**"
      ],
      "metadata": {
        "id": "9F3FwcpZcBir"
      }
    },
    {
      "cell_type": "code",
      "source": [
        "# Load Necessary Libraries: Import libraries to handle calculations and statistics.\n",
        "import numpy as np\n",
        "from scipy import stats"
      ],
      "metadata": {
        "id": "XoCwouCw3qW1"
      },
      "execution_count": 1,
      "outputs": []
    },
    {
      "cell_type": "code",
      "source": [
        "# Enter the Data: Input the sample data for print-head durability.\n",
        "data = [1.13, 1.55, 1.43, 0.92, 1.25, 1.36, 1.32, 0.85, 1.07, 1.48, 1.20, 1.33, 1.18, 1.22, 1.29]\n"
      ],
      "metadata": {
        "id": "ZgUl5nOn47ew"
      },
      "execution_count": 2,
      "outputs": []
    },
    {
      "cell_type": "markdown",
      "source": [
        "**Step 2: Calculate the Sample Mean and Standard Deviation**\\\n",
        "These values are needed for both tasks."
      ],
      "metadata": {
        "id": "cuIL5m5ra8FH"
      }
    },
    {
      "cell_type": "code",
      "source": [
        "sample_mean = np.mean(data)\n",
        "sample_std = np.std(data, ddof=1)\n",
        "n = len(data)"
      ],
      "metadata": {
        "id": "psVBZBzS4wpg"
      },
      "execution_count": 3,
      "outputs": []
    },
    {
      "cell_type": "markdown",
      "source": [
        "**Step 3: Task (a) - Confidence Interval Using Sample Standard Deviation (t-distribution)**\n"
      ],
      "metadata": {
        "id": "EJghPaIbbNE1"
      }
    },
    {
      "cell_type": "code",
      "source": [
        "# Set Confidence Level: Define the confidence level (99%) and calculate the critical value from the t-distribution.\n",
        "confidence_level = 0.99\n",
        "t_critical = stats.t.ppf((1 + confidence_level) / 2, df=n-1)"
      ],
      "metadata": {
        "id": "YMg6_MIfY0D1"
      },
      "execution_count": 4,
      "outputs": []
    },
    {
      "cell_type": "code",
      "source": [
        "# Calculate the Confidence Interval:\n",
        "margin_of_error = t_critical * (sample_std / np.sqrt(n))\n",
        "confidence_interval = (sample_mean - margin_of_error, sample_mean + margin_of_error)\n",
        "print(\"99% Confidence Interval (using sample standard deviation):\", confidence_interval)\n"
      ],
      "metadata": {
        "colab": {
          "base_uri": "https://localhost:8080/"
        },
        "id": "qFS2DdUwZwOR",
        "outputId": "c865e1bd-78e5-49ef-f3e4-fc3b6d5a1b20"
      },
      "execution_count": 5,
      "outputs": [
        {
          "output_type": "stream",
          "name": "stdout",
          "text": [
            "99% Confidence Interval (using sample standard deviation): (1.0901973384384906, 1.3871359948948425)\n"
          ]
        }
      ]
    },
    {
      "cell_type": "markdown",
      "source": [
        "**Step 4: Task (b) - Confidence Interval Using Known Population Standard Deviation (z-distribution)**"
      ],
      "metadata": {
        "id": "koGLzwPkbrd4"
      }
    },
    {
      "cell_type": "code",
      "source": [
        "# Define Population Standard Deviation: Enter the known population standard deviation.\n",
        "population_std = 0.2\n"
      ],
      "metadata": {
        "id": "_8Lmb5weZ0yK"
      },
      "execution_count": 6,
      "outputs": []
    },
    {
      "cell_type": "code",
      "source": [
        "# Calculate the Confidence Interval Using z-distribution:\n",
        "z_critical = stats.norm.ppf((1 + confidence_level) / 2)\n",
        "margin_of_error_population = z_critical * (population_std / np.sqrt(n))\n",
        "confidence_interval_population = (sample_mean - margin_of_error_population, sample_mean + margin_of_error_population)\n",
        "print(\"99% Confidence Interval (using known population standard deviation):\", confidence_interval_population)\n"
      ],
      "metadata": {
        "colab": {
          "base_uri": "https://localhost:8080/"
        },
        "id": "Ah8DUrHdZ4rI",
        "outputId": "95d4576b-3dfe-442c-b9c0-1b23d8f68ed6"
      },
      "execution_count": 7,
      "outputs": [
        {
          "output_type": "stream",
          "name": "stdout",
          "text": [
            "99% Confidence Interval (using known population standard deviation): (1.1056514133957607, 1.3716819199375725)\n"
          ]
        }
      ]
    }
  ]
}