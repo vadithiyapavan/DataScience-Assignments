{
  "nbformat": 4,
  "nbformat_minor": 0,
  "metadata": {
    "colab": {
      "provenance": []
    },
    "kernelspec": {
      "name": "python3",
      "display_name": "Python 3"
    },
    "language_info": {
      "name": "python"
    }
  },
  "cells": [
    {
      "cell_type": "markdown",
      "source": [
        "**Exercise 1: Prime Numbers**"
      ],
      "metadata": {
        "id": "zEd7L94ljp_i"
      }
    },
    {
      "cell_type": "code",
      "execution_count": 2,
      "metadata": {
        "colab": {
          "base_uri": "https://localhost:8080/"
        },
        "id": "nkqJo6hpgA3l",
        "outputId": "18761617-4cc3-4097-b1bf-a9487fba0aec"
      },
      "outputs": [
        {
          "output_type": "stream",
          "name": "stdout",
          "text": [
            "Enter a number to check if it's prime: 222\n",
            "222 is prime: False\n"
          ]
        }
      ],
      "source": [
        "def is_prime(number):\n",
        "    if number <= 1:\n",
        "        return False  # Numbers less than 2 are not prime\n",
        "    for i in range(2, int(number**0.5) + 1):  # Check up to square root of the number\n",
        "        if number % i == 0:\n",
        "            return False  # Number is divisible by i, so it's not prime\n",
        "    return True  # Number has no divisors other than 1 and itself\n",
        "\n",
        "# Example usage:\n",
        "num = int(input(\"Enter a number to check if it's prime: \"))\n",
        "print(f\"{num} is prime: {is_prime(num)}\")\n"
      ]
    },
    {
      "cell_type": "markdown",
      "source": [
        "**Exercise 2: Product of Random Numbers**"
      ],
      "metadata": {
        "id": "sjH1HEKfjwFp"
      }
    },
    {
      "cell_type": "code",
      "source": [
        "import random\n",
        "\n",
        "def product_quiz():\n",
        "    # Generate two random numbers between 1 and 10\n",
        "    num1 = random.randint(1, 10)\n",
        "    num2 = random.randint(1, 10)\n",
        "    actual_product = num1 * num2\n",
        "\n",
        "    # Ask the user for the product\n",
        "    user_answer = int(input(f\"What is the product of {num1} and {num2}? \"))\n",
        "\n",
        "    # Check if the user's answer is correct\n",
        "    if user_answer == actual_product:\n",
        "        print(\"Correct! Well done.\")\n",
        "    else:\n",
        "        print(f\"Incorrect. The correct answer is {actual_product}.\")\n",
        "\n",
        "# Run the quiz\n",
        "product_quiz()\n"
      ],
      "metadata": {
        "colab": {
          "base_uri": "https://localhost:8080/"
        },
        "id": "HQkU2YN6hwvj",
        "outputId": "213ab621-1aa7-436b-9397-2277e3c119a0"
      },
      "execution_count": 3,
      "outputs": [
        {
          "output_type": "stream",
          "name": "stdout",
          "text": [
            "What is the product of 2 and 1? 15\n",
            "Incorrect. The correct answer is 2.\n"
          ]
        }
      ]
    },
    {
      "cell_type": "markdown",
      "source": [
        "**Exercise 3: Squares of Even/Odd Numbers**"
      ],
      "metadata": {
        "id": "a42-qgAEj90B"
      }
    },
    {
      "cell_type": "code",
      "source": [
        "def squares_of_even_odd(even=True):\n",
        "    # Loop through numbers from 100 to 200\n",
        "    for num in range(100, 201):\n",
        "        if even and num % 2 == 0:  # Check if number is even\n",
        "            print(f\"Square of {num}: {num ** 2}\")\n",
        "        elif not even and num % 2 != 0:  # Check if number is odd\n",
        "            print(f\"Square of {num}: {num ** 2}\")\n",
        "\n",
        "# Example usage:\n",
        "# Change even=False to print squares of odd numbers instead\n",
        "squares_of_even_odd(even=True)\n"
      ],
      "metadata": {
        "colab": {
          "base_uri": "https://localhost:8080/"
        },
        "id": "cKVngFBOjAqB",
        "outputId": "76134d3a-f195-4d9a-ef6f-e6c07bae5d37"
      },
      "execution_count": 4,
      "outputs": [
        {
          "output_type": "stream",
          "name": "stdout",
          "text": [
            "Square of 100: 10000\n",
            "Square of 102: 10404\n",
            "Square of 104: 10816\n",
            "Square of 106: 11236\n",
            "Square of 108: 11664\n",
            "Square of 110: 12100\n",
            "Square of 112: 12544\n",
            "Square of 114: 12996\n",
            "Square of 116: 13456\n",
            "Square of 118: 13924\n",
            "Square of 120: 14400\n",
            "Square of 122: 14884\n",
            "Square of 124: 15376\n",
            "Square of 126: 15876\n",
            "Square of 128: 16384\n",
            "Square of 130: 16900\n",
            "Square of 132: 17424\n",
            "Square of 134: 17956\n",
            "Square of 136: 18496\n",
            "Square of 138: 19044\n",
            "Square of 140: 19600\n",
            "Square of 142: 20164\n",
            "Square of 144: 20736\n",
            "Square of 146: 21316\n",
            "Square of 148: 21904\n",
            "Square of 150: 22500\n",
            "Square of 152: 23104\n",
            "Square of 154: 23716\n",
            "Square of 156: 24336\n",
            "Square of 158: 24964\n",
            "Square of 160: 25600\n",
            "Square of 162: 26244\n",
            "Square of 164: 26896\n",
            "Square of 166: 27556\n",
            "Square of 168: 28224\n",
            "Square of 170: 28900\n",
            "Square of 172: 29584\n",
            "Square of 174: 30276\n",
            "Square of 176: 30976\n",
            "Square of 178: 31684\n",
            "Square of 180: 32400\n",
            "Square of 182: 33124\n",
            "Square of 184: 33856\n",
            "Square of 186: 34596\n",
            "Square of 188: 35344\n",
            "Square of 190: 36100\n",
            "Square of 192: 36864\n",
            "Square of 194: 37636\n",
            "Square of 196: 38416\n",
            "Square of 198: 39204\n",
            "Square of 200: 40000\n"
          ]
        }
      ]
    },
    {
      "cell_type": "markdown",
      "source": [
        "**Exercise 4: Word Counter**"
      ],
      "metadata": {
        "id": "fGJ7I2hnkLV5"
      }
    },
    {
      "cell_type": "code",
      "source": [
        "def word_counter(input_text):\n",
        "    words = input_text.split()  # Split the text into words\n",
        "    word_count = {}  # Dictionary to store word counts\n",
        "\n",
        "    for word in words:\n",
        "        word = word.lower().strip(\",.!?\")  # Normalize to lowercase, remove punctuation\n",
        "        word_count[word] = word_count.get(word, 0) + 1  # Increment word count\n",
        "\n",
        "    # Display word counts\n",
        "    for word, count in word_count.items():\n",
        "        print(f\"'{word}': {count}\")\n",
        "\n",
        "# Example usage:\n",
        "input_text = \"This is a sample text. This text will be used to demonstrate the word counter.\"\n",
        "word_counter(input_text)\n"
      ],
      "metadata": {
        "colab": {
          "base_uri": "https://localhost:8080/"
        },
        "id": "wYQuMk2YjHwE",
        "outputId": "92f0c13b-8540-483f-ca1c-98bec57def91"
      },
      "execution_count": 5,
      "outputs": [
        {
          "output_type": "stream",
          "name": "stdout",
          "text": [
            "'this': 2\n",
            "'is': 1\n",
            "'a': 1\n",
            "'sample': 1\n",
            "'text': 2\n",
            "'will': 1\n",
            "'be': 1\n",
            "'used': 1\n",
            "'to': 1\n",
            "'demonstrate': 1\n",
            "'the': 1\n",
            "'word': 1\n",
            "'counter': 1\n"
          ]
        }
      ]
    },
    {
      "cell_type": "markdown",
      "source": [
        "**Exercise 5: Check for Palindrome**"
      ],
      "metadata": {
        "id": "az8IzbLZkOZw"
      }
    },
    {
      "cell_type": "code",
      "source": [
        "def is_palindrome(text):\n",
        "    # Normalize the text: remove spaces and punctuation, and convert to lowercase\n",
        "    clean_text = ''.join(char.lower() for char in text if char.isalnum())\n",
        "\n",
        "    # Check if the cleaned text reads the same forwards and backwards\n",
        "    return clean_text == clean_text[::-1]\n",
        "\n",
        "# Example usage:\n",
        "text = input(\"Enter a string to check if it's a palindrome: \")\n",
        "print(f\"'{text}' is a palindrome: {is_palindrome(text)}\")\n"
      ],
      "metadata": {
        "colab": {
          "base_uri": "https://localhost:8080/"
        },
        "id": "QmVQQh8fjM26",
        "outputId": "d4d91628-236a-4328-f009-c39c4cf528b7"
      },
      "execution_count": 6,
      "outputs": [
        {
          "output_type": "stream",
          "name": "stdout",
          "text": [
            "Enter a string to check if it's a palindrome: 23\n",
            "'23' is a palindrome: False\n"
          ]
        }
      ]
    }
  ]
}